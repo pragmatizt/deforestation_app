{
  "nbformat": 4,
  "nbformat_minor": 0,
  "metadata": {
    "colab": {
      "name": "01_data_wrangling.ipynb",
      "provenance": [],
      "collapsed_sections": [],
      "include_colab_link": true
    },
    "kernelspec": {
      "display_name": "Python 3",
      "language": "python",
      "name": "python3"
    },
    "language_info": {
      "codemirror_mode": {
        "name": "ipython",
        "version": 3
      },
      "file_extension": ".py",
      "mimetype": "text/x-python",
      "name": "python",
      "nbconvert_exporter": "python",
      "pygments_lexer": "ipython3",
      "version": "3.7.4"
    }
  },
  "cells": [
    {
      "cell_type": "markdown",
      "metadata": {
        "id": "view-in-github",
        "colab_type": "text"
      },
      "source": [
        "<a href=\"https://colab.research.google.com/github/pragmatizt/deforestation_app/blob/master/01_data_wrangling.ipynb\" target=\"_parent\"><img src=\"https://colab.research.google.com/assets/colab-badge.svg\" alt=\"Open In Colab\"/></a>"
      ]
    },
    {
      "cell_type": "code",
      "metadata": {
        "colab_type": "code",
        "id": "Z2QXIxI4QmRx",
        "colab": {}
      },
      "source": [
        "import pandas as pd\n",
        "import numpy as np\n",
        "import os\n",
        "import csv\n",
        "from sklearn.linear_model import LinearRegression\n",
        "\n",
        "pd.set_option('display.float_format', lambda x: '%.2f' % x)\n",
        "pd.set_option('display.max_columns', 500)"
      ],
      "execution_count": 0,
      "outputs": []
    },
    {
      "cell_type": "markdown",
      "metadata": {
        "id": "t8uAdQSVF-4c",
        "colab_type": "text"
      },
      "source": [
        "# Create Deforestation DF, 1990-2016"
      ]
    },
    {
      "cell_type": "markdown",
      "metadata": {
        "id": "tfSfh-UGF-4d",
        "colab_type": "text"
      },
      "source": [
        "## 1. Read in data, wrangle all dataframes"
      ]
    },
    {
      "cell_type": "code",
      "metadata": {
        "colab_type": "code",
        "id": "rCjEVHihRjET",
        "colab": {}
      },
      "source": [
        "def wrangle(df):\n",
        "  '''\n",
        "  A function that reformats the World Bank data for feature engineering.\n",
        "  '''\n",
        "\n",
        "  # drop years between 1960-1989\n",
        "  df.drop(df.iloc[:, 3:34], inplace=True, axis=1)\n",
        "  \n",
        "  # drop 2017-2018 as NANs\n",
        "  df = df.drop(columns=['2017', '2018'])\n",
        "  \n",
        "  # deal with nulls\n",
        "  for col in df.select_dtypes(include=np.number):\n",
        "    df[col] = df[col].fillna(df[col].median())\n",
        "   \n",
        "  # melt\n",
        "  year = map(str, range(1990, 2017))\n",
        "  feature = df.iloc[0][2]\n",
        "  df = pd.concat([pd.melt(df, id_vars=['Country Name', 'Country Code'], value_vars=val, var_name='Year', value_name=feature) for val in year])\n",
        "  \n",
        "  return(df)"
      ],
      "execution_count": 0,
      "outputs": []
    },
    {
      "cell_type": "code",
      "metadata": {
        "colab_type": "code",
        "id": "ZHvd3yBzgXfm",
        "colab": {}
      },
      "source": [
        "# import the target dataframe from /raw_data/target\n",
        "\n",
        "# upload target\n",
        "forest_pct = pd.read_csv('https://raw.githubusercontent.com/pragmatizt/deforestation_app/master/raw_data/target_data/API_AG.LND.FRST.ZS_DS2_en_csv_v2_382541.csv', skiprows=3)\n",
        "\n",
        "# wrangle\n",
        "forest_pct = wrangle(forest_pct)"
      ],
      "execution_count": 0,
      "outputs": []
    },
    {
      "cell_type": "code",
      "metadata": {
        "colab_type": "code",
        "id": "2mpDl95mSmNZ",
        "colab": {}
      },
      "source": [
        "# import 6 feature dataframes from github repo\n",
        "\n",
        "# read in features\n",
        "gdp = pd.read_csv('https://raw.githubusercontent.com/pragmatizt/deforestation_app/master/raw_data/features/API_NY.GDP.MKTP.KD.ZG_DS2_en_csv_v2_382358.csv', skiprows=3)\n",
        "urban_population = pd.read_csv('https://raw.githubusercontent.com/pragmatizt/deforestation_app/master/raw_data/features/API_SP.URB.TOTL_DS2_en_csv_v2_385764.csv', skiprows=3)\n",
        "agriculture = pd.read_csv('https://raw.githubusercontent.com/pragmatizt/deforestation_app/master/raw_data/features/API_AG.LND.AGRI.ZS_DS2_en_csv_v2_383732.csv', skiprows=3)\n",
        "livestock = pd.read_csv('https://raw.githubusercontent.com/pragmatizt/deforestation_app/master/raw_data/features/API_AG.PRD.LVSK.XD_DS2_en_csv_v2_384749.csv', skiprows=3)\n",
        "electricity = pd.read_csv('https://raw.githubusercontent.com/pragmatizt/deforestation_app/master/raw_data/features/API_EG.USE.ELEC.KH.PC_DS2_en_csv_v2_383985.csv', skiprows=3)\n",
        "mining = pd.read_csv('https://raw.githubusercontent.com/pragmatizt/deforestation_app/master/raw_data/features/API_TX.VAL.MMTL.ZS.UN_DS2_en_csv_v2_382594.csv', skiprows=3)\n",
        "\n",
        "# wrangle features\n",
        "gdp = wrangle(gdp)\n",
        "urban_population = wrangle(urban_population)\n",
        "agriculture = wrangle(agriculture)\n",
        "livestock = wrangle(livestock)\n",
        "electricity = wrangle(electricity)\n",
        "mining = wrangle(mining)\n",
        "\n",
        "# create list of dfs\n",
        "feature_dfs = [gdp, urban_population, agriculture, livestock, electricity, mining]"
      ],
      "execution_count": 0,
      "outputs": []
    },
    {
      "cell_type": "code",
      "metadata": {
        "colab_type": "code",
        "id": "gmO6JDU-V6CN",
        "colab": {}
      },
      "source": [
        "## 2. Merge features and target"
      ],
      "execution_count": 0,
      "outputs": []
    },
    {
      "cell_type": "code",
      "metadata": {
        "colab_type": "code",
        "id": "uTfD38WacdGc",
        "colab": {}
      },
      "source": [
        "def merge_features(list_dfs):\n",
        "  '''\n",
        "  A function that takes tidy dataframes across all features\n",
        "  and merges them.\n",
        "  \n",
        "  Returns in tidy format.\n",
        "  '''\n",
        "  \n",
        "  # use as base for merging\n",
        "  base = list_dfs.pop(0)\n",
        "  \n",
        "  for df in list_dfs:\n",
        "    base = base.merge(df, on=['Country Name', 'Country Code', 'Year'])\n",
        "  \n",
        "    merged = base\n",
        "  return(merged)"
      ],
      "execution_count": 0,
      "outputs": []
    },
    {
      "cell_type": "code",
      "metadata": {
        "colab_type": "code",
        "id": "B0ix6l3Fdsnd",
        "colab": {}
      },
      "source": [
        "features = merge_features(feature_dfs)"
      ],
      "execution_count": 0,
      "outputs": []
    },
    {
      "cell_type": "code",
      "metadata": {
        "colab_type": "code",
        "id": "cVm57Sa4i-9-",
        "outputId": "acfbde4b-b9ad-4a16-8ba3-954ddb70991a",
        "colab": {
          "base_uri": "https://localhost:8080/",
          "height": 34
        }
      },
      "source": [
        "# merge features and forest_pct (target)\n",
        "\n",
        "merged_1990_2016 = features.merge(forest_pct, on=['Country Name', 'Country Code', 'Year'])\n",
        "\n",
        "merged_1990_2016.shape"
      ],
      "execution_count": 8,
      "outputs": [
        {
          "output_type": "execute_result",
          "data": {
            "text/plain": [
              "(7128, 10)"
            ]
          },
          "metadata": {
            "tags": []
          },
          "execution_count": 8
        }
      ]
    },
    {
      "cell_type": "code",
      "metadata": {
        "id": "5YQhastLKzrc",
        "colab_type": "code",
        "colab": {}
      },
      "source": [
        "# export result as a csv\n",
        "\n",
        "from google.colab import files\n",
        "merged_1990_2016.to_csv('merged_1990_2016.csv')\n",
        "files.download('merged_1990_2016.csv')"
      ],
      "execution_count": 0,
      "outputs": []
    },
    {
      "cell_type": "markdown",
      "metadata": {
        "id": "tbkcLXmEF-4-",
        "colab_type": "text"
      },
      "source": [
        "# Feature Engineering: Create Forecast Dataframe for Features, 2017-2025"
      ]
    },
    {
      "cell_type": "code",
      "metadata": {
        "colab_type": "code",
        "id": "P70Axeb_SZuf",
        "colab": {}
      },
      "source": [
        "def extend_df(df):\n",
        "  '''\n",
        "  A function that takes wrangled data in tidy format and extends predictions \n",
        "  of the wrangled dataframe from 2017-2025.\n",
        "  \n",
        "  '''\n",
        "  # Preparing linear regression to make predictions for each country...\n",
        "  model = LinearRegression()\n",
        "  \n",
        "  # Getting list of country codes...\n",
        "  codes = df['Country Code'].unique()\n",
        "  \n",
        "  # Getting list of years where we will predict forest coverage...\n",
        "  years = [year for year in range(2017, 2026)]\n",
        "  \n",
        "  # For-loop to make predictions for each country with first dataset...\n",
        "  rows = []\n",
        "  feature = df.columns.tolist()[3]\n",
        "  \n",
        "  for code in codes:\n",
        "      dictionary = {'Country Code': code}\n",
        "      model.fit(df[df['Country Code'] == code][['Year']],\n",
        "                df[df['Country Code'] == code][feature])\n",
        "      for year in years:\n",
        "          prediction = model.predict([[year]])\n",
        "          dictionary[str(year)] = prediction[0]\n",
        "      rows.append(dictionary)\n",
        "  \n",
        "  # Making a new dataframe out of the predictions for the first dataset...\n",
        "  df_predictions = pd.DataFrame(rows)\n",
        "  \n",
        "  # Reordering the columns in the dataframe for the first dataset...\n",
        "  df_predictions = df_predictions[\n",
        "      ['Country Code'] + [str(year) for year in years]]\n",
        "  \n",
        "  \n",
        "  # melt df_predictions to tidy format\n",
        "  year = map(str, range(2017, 2026))\n",
        "  df_predictions = pd.concat([pd.melt(df_predictions, id_vars=['Country Code'], value_vars=val, var_name='Year', value_name=feature) for val in year])\n",
        "\n",
        "  return(df_predictions)"
      ],
      "execution_count": 0,
      "outputs": []
    },
    {
      "cell_type": "code",
      "metadata": {
        "id": "Xon01viLF-5C",
        "colab_type": "code",
        "colab": {}
      },
      "source": [
        "# import 6 feature dataframes from /raw_data/features\n",
        "\n",
        "# read in features\n",
        "gdp = pd.read_csv('https://raw.githubusercontent.com/pragmatizt/deforestation_app/master/raw_data/features/API_NY.GDP.MKTP.KD.ZG_DS2_en_csv_v2_382358.csv', skiprows=3)\n",
        "urban_population = pd.read_csv('https://raw.githubusercontent.com/pragmatizt/deforestation_app/master/raw_data/features/API_SP.URB.TOTL_DS2_en_csv_v2_385764.csv', skiprows=3)\n",
        "agriculture = pd.read_csv('https://raw.githubusercontent.com/pragmatizt/deforestation_app/master/raw_data/features/API_AG.LND.AGRI.ZS_DS2_en_csv_v2_383732.csv', skiprows=3)\n",
        "livestock = pd.read_csv('https://raw.githubusercontent.com/pragmatizt/deforestation_app/master/raw_data/features/API_AG.PRD.LVSK.XD_DS2_en_csv_v2_384749.csv', skiprows=3)\n",
        "electricity = pd.read_csv('https://raw.githubusercontent.com/pragmatizt/deforestation_app/master/raw_data/features/API_EG.USE.ELEC.KH.PC_DS2_en_csv_v2_383985.csv', skiprows=3)\n",
        "mining = pd.read_csv('https://raw.githubusercontent.com/pragmatizt/deforestation_app/master/raw_data/features/API_TX.VAL.MMTL.ZS.UN_DS2_en_csv_v2_382594.csv', skiprows=3)\n",
        "\n",
        "# wrangle features\n",
        "gdp = wrangle(gdp)\n",
        "urban_population = wrangle(urban_population)\n",
        "agriculture = wrangle(agriculture)\n",
        "livestock = wrangle(livestock)\n",
        "electricity = wrangle(electricity)\n",
        "mining = wrangle(mining)\n",
        "\n",
        "# extend features\n",
        "gdp = extend_df(gdp)\n",
        "urban_population = extend_df(urban_population)\n",
        "agriculture = extend_df(agriculture)\n",
        "livestock = extend_df(livestock)\n",
        "electricity = extend_df(electricity)\n",
        "mining = extend_df(mining)\n",
        "\n",
        "# create list of dfs\n",
        "feature_dfs_pred = [gdp, urban_population, agriculture, livestock, electricity, mining]"
      ],
      "execution_count": 0,
      "outputs": []
    },
    {
      "cell_type": "code",
      "metadata": {
        "colab_type": "code",
        "id": "ZzxzKqrVfaUj",
        "colab": {}
      },
      "source": [
        "def merge_pred_features(list_dfs_pred):\n",
        "  '''\n",
        "  A function that takes predicted dataframes across all features\n",
        "  and merges them.\n",
        "  \n",
        "  Returns a dataframe in tidy format.\n",
        "  \n",
        "  ''' \n",
        "  # create base df for merging, call it \"test\"\n",
        "  test = list_dfs_pred.pop(0)\n",
        "  \n",
        "  for df in list_dfs_pred:\n",
        "    test = test.merge(df, on=['Country Code', 'Year'])\n",
        "    \n",
        "  return(test)"
      ],
      "execution_count": 0,
      "outputs": []
    },
    {
      "cell_type": "code",
      "metadata": {
        "colab_type": "code",
        "id": "qQUBC5gEfE35",
        "colab": {}
      },
      "source": [
        "merged_features_only_2017_2025 = merge_pred_features(feature_dfs_pred)"
      ],
      "execution_count": 0,
      "outputs": []
    },
    {
      "cell_type": "code",
      "metadata": {
        "id": "5ds0kkaoF-5M",
        "colab_type": "code",
        "colab": {}
      },
      "source": [
        "from google.colab import files\n",
        "merged_features_only_2017_2025.to_csv('merged_features_only_2017_2025.csv')\n",
        "files.download('merged_features_only_2017_2025.csv')"
      ],
      "execution_count": 0,
      "outputs": []
    }
  ]
}